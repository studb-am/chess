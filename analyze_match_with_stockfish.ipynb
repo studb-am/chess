{
 "cells": [
  {
   "cell_type": "code",
   "execution_count": 16,
   "metadata": {},
   "outputs": [],
   "source": [
    "import chess\n",
    "import chess.engine as ce\n",
    "import IPython.display as Id\n",
    "\n",
    "\n",
    "board = chess.Board()\n",
    "engine = ce.SimpleEngine.popen_uci(\"stockfish\")\n",
    "limit = ce.Limit(time=0.2)\n",
    "\n",
    "gamingMoves = []\n",
    "nextMove = input(\"Please enter your next move:\")\n",
    "while nextMove != \"quit\":\n",
    "    if nextMove==\"back\":\n",
    "        if len(gamingMoves)>1:\n",
    "            nextMove = gamingMoves[-2]\n",
    "            print(\"here\",nextMove)\n",
    "            gamingMoves.pop()\n",
    "            board.pop()\n",
    "        else:\n",
    "            board = chess.Board()\n",
    "            gamingMoves = []\n",
    "        display(board)\n",
    "    else:    \n",
    "        move = chess.Move.from_uci(nextMove)\n",
    "        if move in board.legal_moves:\n",
    "            board.push_uci(nextMove)\n",
    "            display(board)\n",
    "            suggestions = engine.analyse(board, limit, multipv=3)\n",
    "            for suggestion in suggestions:\n",
    "                print(\"score:\",suggestion[\"score\"],\"suggested move:\",suggestion[\"pv\"][0])\n",
    "        else:\n",
    "            print(\"This is not a legal move or quit, please enter a valid move\")\n",
    "        gamingMoves.append(nextMove)\n",
    "        print(gamingMoves)\n",
    "    nextMove = input(\"Please enter your next move:\")\n",
    "    Id.clear_output()\n"
   ]
  }
 ],
 "metadata": {
  "kernelspec": {
   "display_name": ".venv",
   "language": "python",
   "name": "python3"
  },
  "language_info": {
   "codemirror_mode": {
    "name": "ipython",
    "version": 3
   },
   "file_extension": ".py",
   "mimetype": "text/x-python",
   "name": "python",
   "nbconvert_exporter": "python",
   "pygments_lexer": "ipython3",
   "version": "3.10.11"
  },
  "orig_nbformat": 4
 },
 "nbformat": 4,
 "nbformat_minor": 2
}
