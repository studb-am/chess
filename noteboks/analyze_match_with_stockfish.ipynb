{
 "cells": [
  {
   "cell_type": "code",
   "execution_count": 1,
   "metadata": {},
   "outputs": [],
   "source": [
    "import chess\n",
    "import logging \n",
    "import os\n",
    "\n",
    "os.unlink(\"currentMatch.log\")\n",
    "logging.basicConfig(filename=\"currentMatch.log\", encoding=\"utf-8\", level=logging.INFO, force=True)\n",
    "\n",
    "def log_new_position(board: chess.Board) -> None:\n",
    "    commentTurn = \"after black turn\" if board.turn == chess.WHITE else \"after white turn\"\n",
    "    logging.info(f\"new boarding fen {commentTurn}: {board.fen()}\")\n",
    "    display(board)"
   ]
  },
  {
   "cell_type": "code",
   "execution_count": 2,
   "metadata": {},
   "outputs": [],
   "source": [
    "import chess.engine as ce\n",
    "import IPython.display as Id\n",
    "\n",
    "board = chess.Board()\n",
    "#board.set_board_fen(\"r1b5/pp1n1k2/1q2p2p/3p4/3PnP1P/P4N2/1PQ2PP1/2R2RK1\")\n",
    "engine = ce.SimpleEngine.popen_uci(\"stockfish\")\n",
    "limit = ce.Limit(time=0.2)\n",
    "\n",
    "gamingMoves = []\n",
    "nextMove = input(\"Please enter your next move:\")\n",
    "while nextMove != \"quit\":\n",
    "    if nextMove==\"back\":\n",
    "        if len(gamingMoves)>1:\n",
    "            nextMove = gamingMoves[-2]\n",
    "            gamingMoves.pop()\n",
    "            board.pop()\n",
    "        else:\n",
    "            board = chess.Board()\n",
    "            gamingMoves = []\n",
    "        log_new_position(board)\n",
    "    else:\n",
    "        try:    \n",
    "            move = chess.Move.from_uci(nextMove)\n",
    "            if move in board.legal_moves:\n",
    "                board.push_uci(nextMove)\n",
    "                gamingMoves.append(nextMove)\n",
    "                log_new_position(board)\n",
    "                if board.is_checkmate():\n",
    "                    logging.info(\"Checkmate! Game Ended\")\n",
    "                    break\n",
    "                suggestions = engine.analyse(board, limit, multipv=3)\n",
    "                for suggestion in suggestions:\n",
    "                    print(\"score:\",suggestion[\"score\"],\"suggested move:\",suggestion[\"pv\"][0])\n",
    "            else:\n",
    "                print(\"This is not a legal move or quit, please enter a valid move\")\n",
    "            print(gamingMoves)\n",
    "        except chess.InvalidMoveError as err:\n",
    "            print(f\"Invalid Move {nextMove}. Please try one of the followings: {[chess.Move.uci(legal_move) for legal_move in board.legal_moves]}\")\n",
    "    \n",
    "    nextMove = input(\"Please enter your next move:\")\n",
    "    Id.clear_output()\n"
   ]
  }
 ],
 "metadata": {
  "kernelspec": {
   "display_name": ".venv",
   "language": "python",
   "name": "python3"
  },
  "language_info": {
   "codemirror_mode": {
    "name": "ipython",
    "version": 3
   },
   "file_extension": ".py",
   "mimetype": "text/x-python",
   "name": "python",
   "nbconvert_exporter": "python",
   "pygments_lexer": "ipython3",
   "version": "3.10.11"
  },
  "orig_nbformat": 4
 },
 "nbformat": 4,
 "nbformat_minor": 2
}
